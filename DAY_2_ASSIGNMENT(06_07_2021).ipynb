{
  "nbformat": 4,
  "nbformat_minor": 0,
  "metadata": {
    "colab": {
      "name": "DAY 2 ASSIGNMENT(06-07-2021).ipynb",
      "provenance": [],
      "collapsed_sections": [],
      "authorship_tag": "ABX9TyM7B/7XmW04XRDRvOLZdh0Y",
      "include_colab_link": true
    },
    "kernelspec": {
      "name": "python3",
      "display_name": "Python 3"
    },
    "language_info": {
      "name": "python"
    }
  },
  "cells": [
    {
      "cell_type": "markdown",
      "metadata": {
        "id": "view-in-github",
        "colab_type": "text"
      },
      "source": [
        "<a href=\"https://colab.research.google.com/github/Vaishna25/DAY-2-ASSIGNMENT-06-07-2021-/blob/main/DAY_2_ASSIGNMENT(06_07_2021).ipynb\" target=\"_parent\"><img src=\"https://colab.research.google.com/assets/colab-badge.svg\" alt=\"Open In Colab\"/></a>"
      ]
    },
    {
      "cell_type": "code",
      "metadata": {
        "id": "kenQD_wQznsx"
      },
      "source": [
        "import matplotlib.pyplot as plt\n",
        "import numpy as np\n",
        "import pandas as pd\n",
        "%matplotlib inline\n",
        "import seaborn as sns\n",
        "from numpy.random import randn, randint, uniform, sample"
      ],
      "execution_count": 5,
      "outputs": []
    },
    {
      "cell_type": "code",
      "metadata": {
        "id": "587qRxqGzv4C"
      },
      "source": [
        "df = pd.DataFrame(randn(10, 4), columns=['a', 'b', 'c', 'd'])"
      ],
      "execution_count": 7,
      "outputs": []
    },
    {
      "cell_type": "code",
      "metadata": {
        "colab": {
          "base_uri": "https://localhost:8080/",
          "height": 359
        },
        "id": "kxXSaF_RzxQR",
        "outputId": "24341e7b-d135-477d-b24b-c81e327a23be"
      },
      "source": [
        "df"
      ],
      "execution_count": 8,
      "outputs": [
        {
          "output_type": "execute_result",
          "data": {
            "text/html": [
              "<div>\n",
              "<style scoped>\n",
              "    .dataframe tbody tr th:only-of-type {\n",
              "        vertical-align: middle;\n",
              "    }\n",
              "\n",
              "    .dataframe tbody tr th {\n",
              "        vertical-align: top;\n",
              "    }\n",
              "\n",
              "    .dataframe thead th {\n",
              "        text-align: right;\n",
              "    }\n",
              "</style>\n",
              "<table border=\"1\" class=\"dataframe\">\n",
              "  <thead>\n",
              "    <tr style=\"text-align: right;\">\n",
              "      <th></th>\n",
              "      <th>a</th>\n",
              "      <th>b</th>\n",
              "      <th>c</th>\n",
              "      <th>d</th>\n",
              "    </tr>\n",
              "  </thead>\n",
              "  <tbody>\n",
              "    <tr>\n",
              "      <th>0</th>\n",
              "      <td>2.633331</td>\n",
              "      <td>0.809050</td>\n",
              "      <td>-0.593573</td>\n",
              "      <td>-0.703121</td>\n",
              "    </tr>\n",
              "    <tr>\n",
              "      <th>1</th>\n",
              "      <td>1.443368</td>\n",
              "      <td>0.744608</td>\n",
              "      <td>0.504127</td>\n",
              "      <td>0.721131</td>\n",
              "    </tr>\n",
              "    <tr>\n",
              "      <th>2</th>\n",
              "      <td>1.250808</td>\n",
              "      <td>2.266729</td>\n",
              "      <td>0.597195</td>\n",
              "      <td>0.669941</td>\n",
              "    </tr>\n",
              "    <tr>\n",
              "      <th>3</th>\n",
              "      <td>1.155873</td>\n",
              "      <td>-2.351180</td>\n",
              "      <td>0.608115</td>\n",
              "      <td>-2.540167</td>\n",
              "    </tr>\n",
              "    <tr>\n",
              "      <th>4</th>\n",
              "      <td>-1.870480</td>\n",
              "      <td>-0.983588</td>\n",
              "      <td>1.285372</td>\n",
              "      <td>-0.753977</td>\n",
              "    </tr>\n",
              "    <tr>\n",
              "      <th>5</th>\n",
              "      <td>-0.306202</td>\n",
              "      <td>0.549271</td>\n",
              "      <td>0.934653</td>\n",
              "      <td>-1.657104</td>\n",
              "    </tr>\n",
              "    <tr>\n",
              "      <th>6</th>\n",
              "      <td>-0.067562</td>\n",
              "      <td>0.045358</td>\n",
              "      <td>-0.412596</td>\n",
              "      <td>0.814997</td>\n",
              "    </tr>\n",
              "    <tr>\n",
              "      <th>7</th>\n",
              "      <td>0.810351</td>\n",
              "      <td>0.697237</td>\n",
              "      <td>-0.703316</td>\n",
              "      <td>0.336868</td>\n",
              "    </tr>\n",
              "    <tr>\n",
              "      <th>8</th>\n",
              "      <td>0.473729</td>\n",
              "      <td>2.430084</td>\n",
              "      <td>2.013851</td>\n",
              "      <td>0.838794</td>\n",
              "    </tr>\n",
              "    <tr>\n",
              "      <th>9</th>\n",
              "      <td>-0.138355</td>\n",
              "      <td>1.654689</td>\n",
              "      <td>-1.114897</td>\n",
              "      <td>0.755275</td>\n",
              "    </tr>\n",
              "  </tbody>\n",
              "</table>\n",
              "</div>"
            ],
            "text/plain": [
              "          a         b         c         d\n",
              "0  2.633331  0.809050 -0.593573 -0.703121\n",
              "1  1.443368  0.744608  0.504127  0.721131\n",
              "2  1.250808  2.266729  0.597195  0.669941\n",
              "3  1.155873 -2.351180  0.608115 -2.540167\n",
              "4 -1.870480 -0.983588  1.285372 -0.753977\n",
              "5 -0.306202  0.549271  0.934653 -1.657104\n",
              "6 -0.067562  0.045358 -0.412596  0.814997\n",
              "7  0.810351  0.697237 -0.703316  0.336868\n",
              "8  0.473729  2.430084  2.013851  0.838794\n",
              "9 -0.138355  1.654689 -1.114897  0.755275"
            ]
          },
          "metadata": {
            "tags": []
          },
          "execution_count": 8
        }
      ]
    },
    {
      "cell_type": "code",
      "metadata": {
        "colab": {
          "base_uri": "https://localhost:8080/",
          "height": 567
        },
        "id": "QYg0LX02z7Ay",
        "outputId": "49b3c2cd-ce7b-48fe-9a93-06c71874b318"
      },
      "source": [
        "df.plot.bar(figsize = (9,9))\n",
        "plt.title('Bar Graph')"
      ],
      "execution_count": 9,
      "outputs": [
        {
          "output_type": "execute_result",
          "data": {
            "text/plain": [
              "Text(0.5, 1.0, 'Bar Graph')"
            ]
          },
          "metadata": {
            "tags": []
          },
          "execution_count": 9
        },
        {
          "output_type": "display_data",
          "data": {
            "image/png": "[encoded data removed]",
            "text/plain": [
              "<Figure size 648x648 with 1 Axes>"
            ]
          },
          "metadata": {
            "tags": [],
            "needs_background": "light"
          }
        }
      ]
    },
    {
      "cell_type": "markdown",
      "metadata": {
        "id": "izjJlsFT0NxR"
      },
      "source": [
        "VAISHNAVI PRABHAKARAN\n"
      ]
    }
  ]
}